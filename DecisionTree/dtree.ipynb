{
 "cells": [
  {
   "cell_type": "code",
   "execution_count": 5,
   "metadata": {},
   "outputs": [],
   "source": [
    "from pandas import read_csv\n",
    "from sklearn import tree\n",
    "from sklearn.cross_validation import train_test_split"
   ]
  },
  {
   "cell_type": "code",
   "execution_count": 6,
   "metadata": {},
   "outputs": [],
   "source": [
    "\"\"\"载入数据\"\"\"\n",
    "dataframe = read_csv('dataset.data', header=None, index_col= False)#pandas.series \n",
    "raw_values = dataframe.values#pandas.ndarray\n",
    "X = raw_values[:, 0:3]#所有列，0~2号特征为X输入\n",
    "Y = raw_values[:, 3]\n",
    "\"\"\"以20%d的比例随机分割测试集\"\"\"\n",
    "X_train,X_test,Y_train,Y_test = train_test_split(X,Y,test_size=0.2,random_state=42)"
   ]
  },
  {
   "cell_type": "code",
   "execution_count": 7,
   "metadata": {},
   "outputs": [],
   "source": [
    "clf = tree.DecisionTreeClassifier()\n",
    "clf = clf.fit(X_train, Y_train)\n",
    "Y_test_=clf.predict(X_test)\n",
    "Y_train_ = clf.predict(X_train)"
   ]
  },
  {
   "cell_type": "code",
   "execution_count": 8,
   "metadata": {},
   "outputs": [
    {
     "name": "stdout",
     "output_type": "stream",
     "text": [
      "测试集正确率 0.8813559322033898\n",
      "训练集正确率 0.9568965517241379\n"
     ]
    }
   ],
   "source": [
    "acc = 0\n",
    "for i in range(Y_test.size):\n",
    "    if Y_test[i]==Y_test_[i]:\n",
    "        acc+=1\n",
    "print('测试集正确率',acc/Y_test.size)\n",
    "\n",
    "acc = 0\n",
    "for i in range(Y_train.size):\n",
    "    if Y_train[i]==Y_train_[i]:\n",
    "        acc+=1\n",
    "print('训练集正确率',acc/Y_train.size)\n"
   ]
  },
  {
   "cell_type": "code",
   "execution_count": null,
   "metadata": {},
   "outputs": [],
   "source": []
  },
  {
   "cell_type": "code",
   "execution_count": null,
   "metadata": {},
   "outputs": [],
   "source": []
  }
 ],
 "metadata": {
  "kernelspec": {
   "display_name": "Python 3",
   "language": "python",
   "name": "python3"
  },
  "language_info": {
   "codemirror_mode": {
    "name": "ipython",
    "version": 3
   },
   "file_extension": ".py",
   "mimetype": "text/x-python",
   "name": "python",
   "nbconvert_exporter": "python",
   "pygments_lexer": "ipython3",
   "version": "3.6.2"
  }
 },
 "nbformat": 4,
 "nbformat_minor": 2
}
